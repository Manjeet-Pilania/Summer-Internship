{
 "cells": [
  {
   "cell_type": "code",
   "execution_count": 1,
   "id": "c1f2b6c0",
   "metadata": {
    "_cell_guid": "b1076dfc-b9ad-4769-8c92-a6c4dae69d19",
    "_uuid": "8f2839f25d086af736a60e9eeb907d3b93b6e0e5",
    "execution": {
     "iopub.execute_input": "2024-07-13T23:01:58.073482Z",
     "iopub.status.busy": "2024-07-13T23:01:58.073017Z",
     "iopub.status.idle": "2024-07-13T23:02:01.109303Z",
     "shell.execute_reply": "2024-07-13T23:02:01.107932Z"
    },
    "papermill": {
     "duration": 3.051001,
     "end_time": "2024-07-13T23:02:01.112346",
     "exception": false,
     "start_time": "2024-07-13T23:01:58.061345",
     "status": "completed"
    },
    "tags": []
   },
   "outputs": [
    {
     "name": "stdout",
     "output_type": "stream",
     "text": [
      "/kaggle/input/loan-approval-prediction/Sample_Submission.csv\n",
      "/kaggle/input/loan-approval-prediction/Training Dataset.csv\n",
      "/kaggle/input/loan-approval-prediction/Test Dataset.csv\n"
     ]
    }
   ],
   "source": [
    "# This Python 3 environment comes with many helpful analytics libraries installed\n",
    "# It is defined by the kaggle/python Docker image: https://github.com/kaggle/docker-python\n",
    "# For example, here's several helpful packages to load\n",
    "\n",
    "import numpy as np # linear algebra\n",
    "import pandas as pd # data processing, CSV file I/O (e.g. pd.read_csv)\n",
    "\n",
    "# Input data files are available in the read-only \"../input/\" directory\n",
    "# For example, running this (by clicking run or pressing Shift+Enter) will list all files under the input directory\n",
    "\n",
    "import os\n",
    "for dirname, _, filenames in os.walk('/kaggle/input'):\n",
    "    for filename in filenames:\n",
    "        print(os.path.join(dirname, filename))\n",
    "\n",
    "# You can write up to 20GB to the current directory (/kaggle/working/) that gets preserved as output when you create a version using \"Save & Run All\" \n",
    "# You can also write temporary files to /kaggle/temp/, but they won't be saved outside of the current session\n",
    "import pandas as pd\n",
    "from sklearn.model_selection import train_test_split\n",
    "from sklearn.preprocessing import LabelEncoder, StandardScaler\n",
    "from sklearn.linear_model import LogisticRegression, LinearRegression\n",
    "from sklearn.ensemble import RandomForestClassifier\n",
    "from sklearn.metrics import accuracy_score, classification_report, mean_squared_error\n",
    "import numpy as np\n",
    "import pandas as pd\n",
    "from sklearn.model_selection import train_test_split\n",
    "from sklearn.preprocessing import LabelEncoder, StandardScaler\n",
    "from sklearn.linear_model import LogisticRegression, LinearRegression\n",
    "from sklearn.ensemble import RandomForestClassifier\n",
    "from sklearn.metrics import accuracy_score, classification_report, mean_squared_error\n",
    "import numpy as np"
   ]
  },
  {
   "cell_type": "markdown",
   "id": "9323bc77",
   "metadata": {
    "papermill": {
     "duration": 0.009367,
     "end_time": "2024-07-13T23:02:01.132649",
     "exception": false,
     "start_time": "2024-07-13T23:02:01.123282",
     "status": "completed"
    },
    "tags": []
   },
   "source": [
    "# Loan Eligibility Prediction\n",
    "\n",
    "This notebook demonstrates the process of predicting loan eligibility based on customer details. The steps include data preprocessing, model training, and generating predictions for the test dataset.\n",
    "\n",
    "## Step 1: Import Necessary Libraries\n",
    "```python\n",
    "# Import necessary libraries\n",
    "import pandas as pd\n",
    "from sklearn.model_selection import train_test_split\n",
    "from sklearn.preprocessing import LabelEncoder, StandardScaler\n",
    "from sklearn.linear_model import LogisticRegression, LinearRegression\n",
    "from sklearn.ensemble import RandomForestClassifier\n",
    "from sklearn.metrics import accuracy_score, classification_report, mean_squared_error\n",
    "import numpy as np\n"
   ]
  },
  {
   "cell_type": "markdown",
   "id": "b5dfb442",
   "metadata": {
    "papermill": {
     "duration": 0.009462,
     "end_time": "2024-07-13T23:02:01.151531",
     "exception": false,
     "start_time": "2024-07-13T23:02:01.142069",
     "status": "completed"
    },
    "tags": []
   },
   "source": [
    "Step 2: Load Datasets"
   ]
  },
  {
   "cell_type": "code",
   "execution_count": 2,
   "id": "e4d8b5b0",
   "metadata": {
    "execution": {
     "iopub.execute_input": "2024-07-13T23:02:01.172393Z",
     "iopub.status.busy": "2024-07-13T23:02:01.171776Z",
     "iopub.status.idle": "2024-07-13T23:02:01.244512Z",
     "shell.execute_reply": "2024-07-13T23:02:01.243102Z"
    },
    "papermill": {
     "duration": 0.086547,
     "end_time": "2024-07-13T23:02:01.247474",
     "exception": false,
     "start_time": "2024-07-13T23:02:01.160927",
     "status": "completed"
    },
    "tags": []
   },
   "outputs": [
    {
     "name": "stdout",
     "output_type": "stream",
     "text": [
      "Training Data:\n",
      "    Loan_ID Gender Married Dependents     Education Self_Employed  \\\n",
      "0  LP001002   Male      No          0      Graduate            No   \n",
      "1  LP001003   Male     Yes          1      Graduate            No   \n",
      "2  LP001005   Male     Yes          0      Graduate           Yes   \n",
      "3  LP001006   Male     Yes          0  Not Graduate            No   \n",
      "4  LP001008   Male      No          0      Graduate            No   \n",
      "\n",
      "   ApplicantIncome  CoapplicantIncome  LoanAmount  Loan_Amount_Term  \\\n",
      "0             5849                0.0         NaN             360.0   \n",
      "1             4583             1508.0       128.0             360.0   \n",
      "2             3000                0.0        66.0             360.0   \n",
      "3             2583             2358.0       120.0             360.0   \n",
      "4             6000                0.0       141.0             360.0   \n",
      "\n",
      "   Credit_History Property_Area Loan_Status  \n",
      "0             1.0         Urban           Y  \n",
      "1             1.0         Rural           N  \n",
      "2             1.0         Urban           Y  \n",
      "3             1.0         Urban           Y  \n",
      "4             1.0         Urban           Y  \n",
      "\n",
      "Test Data:\n",
      "    Loan_ID Gender Married Dependents     Education Self_Employed  \\\n",
      "0  LP001015   Male     Yes          0      Graduate            No   \n",
      "1  LP001022   Male     Yes          1      Graduate            No   \n",
      "2  LP001031   Male     Yes          2      Graduate            No   \n",
      "3  LP001035   Male     Yes          2      Graduate            No   \n",
      "4  LP001051   Male      No          0  Not Graduate            No   \n",
      "\n",
      "   ApplicantIncome  CoapplicantIncome  LoanAmount  Loan_Amount_Term  \\\n",
      "0             5720                  0       110.0             360.0   \n",
      "1             3076               1500       126.0             360.0   \n",
      "2             5000               1800       208.0             360.0   \n",
      "3             2340               2546       100.0             360.0   \n",
      "4             3276                  0        78.0             360.0   \n",
      "\n",
      "   Credit_History Property_Area  \n",
      "0             1.0         Urban  \n",
      "1             1.0         Urban  \n",
      "2             1.0         Urban  \n",
      "3             NaN         Urban  \n",
      "4             1.0         Urban  \n",
      "\n",
      "Sample Submission:\n",
      "    Loan_ID Loan_Status\n",
      "0  LP001015           N\n",
      "1  LP001022           N\n",
      "2  LP001031           N\n",
      "3  LP001035           N\n",
      "4  LP001051           N\n"
     ]
    }
   ],
   "source": [
    "# Load datasets\n",
    "train_data = pd.read_csv('/kaggle/input/loan-approval-prediction/Training Dataset.csv')\n",
    "test_data = pd.read_csv('/kaggle/input/loan-approval-prediction/Test Dataset.csv')\n",
    "sample_submission = pd.read_csv('/kaggle/input/loan-approval-prediction/Sample_Submission.csv')\n",
    "\n",
    "# Display the first few rows of each dataset\n",
    "print(\"Training Data:\")\n",
    "print(train_data.head())\n",
    "\n",
    "print(\"\\nTest Data:\")\n",
    "print(test_data.head())\n",
    "\n",
    "print(\"\\nSample Submission:\")\n",
    "print(sample_submission.head())\n"
   ]
  },
  {
   "cell_type": "markdown",
   "id": "bd114fe4",
   "metadata": {
    "papermill": {
     "duration": 0.009277,
     "end_time": "2024-07-13T23:02:01.266402",
     "exception": false,
     "start_time": "2024-07-13T23:02:01.257125",
     "status": "completed"
    },
    "tags": []
   },
   "source": [
    "Step 3: Handle Missing Values"
   ]
  },
  {
   "cell_type": "code",
   "execution_count": 3,
   "id": "016f1b9b",
   "metadata": {
    "execution": {
     "iopub.execute_input": "2024-07-13T23:02:01.287319Z",
     "iopub.status.busy": "2024-07-13T23:02:01.286932Z",
     "iopub.status.idle": "2024-07-13T23:02:01.314290Z",
     "shell.execute_reply": "2024-07-13T23:02:01.313009Z"
    },
    "papermill": {
     "duration": 0.04109,
     "end_time": "2024-07-13T23:02:01.317101",
     "exception": false,
     "start_time": "2024-07-13T23:02:01.276011",
     "status": "completed"
    },
    "tags": []
   },
   "outputs": [],
   "source": [
    "# Handle missing values in training data\n",
    "train_data['Gender'] = train_data['Gender'].fillna(train_data['Gender'].mode()[0])\n",
    "train_data['Married'] = train_data['Married'].fillna(train_data['Married'].mode()[0])\n",
    "train_data['Dependents'] = train_data['Dependents'].fillna(train_data['Dependents'].mode()[0])\n",
    "train_data['Self_Employed'] = train_data['Self_Employed'].fillna(train_data['Self_Employed'].mode()[0])\n",
    "train_data['Credit_History'] = train_data['Credit_History'].fillna(train_data['Credit_History'].mode()[0])\n",
    "train_data['LoanAmount'] = train_data['LoanAmount'].fillna(train_data['LoanAmount'].mean())\n",
    "train_data['Loan_Amount_Term'] = train_data['Loan_Amount_Term'].fillna(train_data['Loan_Amount_Term'].mean())\n",
    "\n",
    "# Handle missing values in testing data\n",
    "test_data['Gender'] = test_data['Gender'].fillna(test_data['Gender'].mode()[0])\n",
    "test_data['Married'] = test_data['Married'].fillna(test_data['Married'].mode()[0])\n",
    "test_data['Dependents'] = test_data['Dependents'].fillna(test_data['Dependents'].mode()[0])\n",
    "test_data['Self_Employed'] = test_data['Self_Employed'].fillna(test_data['Self_Employed'].mode()[0])\n",
    "test_data['Credit_History'] = test_data['Credit_History'].fillna(test_data['Credit_History'].mode()[0])\n",
    "test_data['LoanAmount'] = test_data['LoanAmount'].fillna(test_data['LoanAmount'].mean())\n",
    "test_data['Loan_Amount_Term'] = test_data['Loan_Amount_Term'].fillna(test_data['Loan_Amount_Term'].mean())\n"
   ]
  },
  {
   "cell_type": "markdown",
   "id": "51f84c3b",
   "metadata": {
    "papermill": {
     "duration": 0.009696,
     "end_time": "2024-07-13T23:02:01.337175",
     "exception": false,
     "start_time": "2024-07-13T23:02:01.327479",
     "status": "completed"
    },
    "tags": []
   },
   "source": [
    "Step 4: Encode Categorical Variables"
   ]
  },
  {
   "cell_type": "code",
   "execution_count": 4,
   "id": "1ff55cee",
   "metadata": {
    "execution": {
     "iopub.execute_input": "2024-07-13T23:02:01.360148Z",
     "iopub.status.busy": "2024-07-13T23:02:01.358220Z",
     "iopub.status.idle": "2024-07-13T23:02:01.392929Z",
     "shell.execute_reply": "2024-07-13T23:02:01.391748Z"
    },
    "papermill": {
     "duration": 0.048607,
     "end_time": "2024-07-13T23:02:01.395686",
     "exception": false,
     "start_time": "2024-07-13T23:02:01.347079",
     "status": "completed"
    },
    "tags": []
   },
   "outputs": [],
   "source": [
    "# One-hot encode categorical variables\n",
    "train_data = pd.get_dummies(train_data, columns=['Gender', 'Married', 'Dependents', 'Education', 'Self_Employed', 'Property_Area'], drop_first=True)\n",
    "test_data = pd.get_dummies(test_data, columns=['Gender', 'Married', 'Dependents', 'Education', 'Self_Employed', 'Property_Area'], drop_first=True)\n"
   ]
  },
  {
   "cell_type": "markdown",
   "id": "6737105b",
   "metadata": {
    "papermill": {
     "duration": 0.010004,
     "end_time": "2024-07-13T23:02:01.415386",
     "exception": false,
     "start_time": "2024-07-13T23:02:01.405382",
     "status": "completed"
    },
    "tags": []
   },
   "source": [
    "Step 5: Split Training Data into Training and Validation Sets"
   ]
  },
  {
   "cell_type": "code",
   "execution_count": 5,
   "id": "76f392e4",
   "metadata": {
    "execution": {
     "iopub.execute_input": "2024-07-13T23:02:01.439054Z",
     "iopub.status.busy": "2024-07-13T23:02:01.438639Z",
     "iopub.status.idle": "2024-07-13T23:02:01.453559Z",
     "shell.execute_reply": "2024-07-13T23:02:01.452175Z"
    },
    "papermill": {
     "duration": 0.029647,
     "end_time": "2024-07-13T23:02:01.456497",
     "exception": false,
     "start_time": "2024-07-13T23:02:01.426850",
     "status": "completed"
    },
    "tags": []
   },
   "outputs": [],
   "source": [
    "# Split the training data into training and validation sets\n",
    "X = train_data.drop(['Loan_ID', 'Loan_Status'], axis=1)\n",
    "y = train_data['Loan_Status']\n",
    "X_train, X_val, y_train, y_val = train_test_split(X, y, test_size=0.2, random_state=42)\n"
   ]
  },
  {
   "cell_type": "markdown",
   "id": "b32e2462",
   "metadata": {
    "papermill": {
     "duration": 0.010135,
     "end_time": "2024-07-13T23:02:01.476357",
     "exception": false,
     "start_time": "2024-07-13T23:02:01.466222",
     "status": "completed"
    },
    "tags": []
   },
   "source": [
    "Step 6: Scale Numerical Features"
   ]
  },
  {
   "cell_type": "code",
   "execution_count": 6,
   "id": "452c34a6",
   "metadata": {
    "execution": {
     "iopub.execute_input": "2024-07-13T23:02:01.498315Z",
     "iopub.status.busy": "2024-07-13T23:02:01.497903Z",
     "iopub.status.idle": "2024-07-13T23:02:01.519597Z",
     "shell.execute_reply": "2024-07-13T23:02:01.518334Z"
    },
    "papermill": {
     "duration": 0.035681,
     "end_time": "2024-07-13T23:02:01.522399",
     "exception": false,
     "start_time": "2024-07-13T23:02:01.486718",
     "status": "completed"
    },
    "tags": []
   },
   "outputs": [],
   "source": [
    "# Scale numerical features\n",
    "scaler = StandardScaler()\n",
    "X_train[['ApplicantIncome', 'CoapplicantIncome', 'LoanAmount', 'Loan_Amount_Term']] = scaler.fit_transform(X_train[['ApplicantIncome', 'CoapplicantIncome', 'LoanAmount', 'Loan_Amount_Term']])\n",
    "X_val[['ApplicantIncome', 'CoapplicantIncome', 'LoanAmount', 'Loan_Amount_Term']] = scaler.transform(X_val[['ApplicantIncome', 'CoapplicantIncome', 'LoanAmount', 'Loan_Amount_Term']])\n",
    "test_data[['ApplicantIncome', 'CoapplicantIncome', 'LoanAmount', 'Loan_Amount_Term']] = scaler.transform(test_data[['ApplicantIncome', 'CoapplicantIncome', 'LoanAmount', 'Loan_Amount_Term']])\n"
   ]
  },
  {
   "cell_type": "markdown",
   "id": "2251b1f2",
   "metadata": {
    "papermill": {
     "duration": 0.009424,
     "end_time": "2024-07-13T23:02:01.541441",
     "exception": false,
     "start_time": "2024-07-13T23:02:01.532017",
     "status": "completed"
    },
    "tags": []
   },
   "source": [
    "Step 7: Train a Logistic Regression Model"
   ]
  },
  {
   "cell_type": "code",
   "execution_count": 7,
   "id": "5da19363",
   "metadata": {
    "execution": {
     "iopub.execute_input": "2024-07-13T23:02:01.563005Z",
     "iopub.status.busy": "2024-07-13T23:02:01.562614Z",
     "iopub.status.idle": "2024-07-13T23:02:01.606788Z",
     "shell.execute_reply": "2024-07-13T23:02:01.605585Z"
    },
    "papermill": {
     "duration": 0.058479,
     "end_time": "2024-07-13T23:02:01.609694",
     "exception": false,
     "start_time": "2024-07-13T23:02:01.551215",
     "status": "completed"
    },
    "tags": []
   },
   "outputs": [
    {
     "name": "stdout",
     "output_type": "stream",
     "text": [
      "Logistic Regression Model:\n",
      "Accuracy: 0.7886178861788617\n",
      "Classification Report:\n",
      "              precision    recall  f1-score   support\n",
      "\n",
      "           N       0.95      0.42      0.58        43\n",
      "           Y       0.76      0.99      0.86        80\n",
      "\n",
      "    accuracy                           0.79       123\n",
      "   macro avg       0.85      0.70      0.72       123\n",
      "weighted avg       0.83      0.79      0.76       123\n",
      "\n"
     ]
    }
   ],
   "source": [
    "# Train a Logistic Regression model\n",
    "log_reg = LogisticRegression(random_state=42, max_iter=1000)\n",
    "log_reg.fit(X_train, y_train)\n",
    "\n",
    "# Predict on the validation set\n",
    "y_val_pred_log = log_reg.predict(X_val)\n",
    "\n",
    "# Evaluate the Logistic Regression model\n",
    "accuracy_log = accuracy_score(y_val, y_val_pred_log)\n",
    "classification_rep_log = classification_report(y_val, y_val_pred_log)\n",
    "\n",
    "print(\"Logistic Regression Model:\")\n",
    "print(f\"Accuracy: {accuracy_log}\")\n",
    "print(f\"Classification Report:\\n{classification_rep_log}\")\n"
   ]
  },
  {
   "cell_type": "markdown",
   "id": "015a52c8",
   "metadata": {
    "papermill": {
     "duration": 0.010234,
     "end_time": "2024-07-13T23:02:01.630321",
     "exception": false,
     "start_time": "2024-07-13T23:02:01.620087",
     "status": "completed"
    },
    "tags": []
   },
   "source": [
    "Step 8: Train a Random Forest Model"
   ]
  },
  {
   "cell_type": "code",
   "execution_count": 8,
   "id": "bd44d72e",
   "metadata": {
    "execution": {
     "iopub.execute_input": "2024-07-13T23:02:01.651680Z",
     "iopub.status.busy": "2024-07-13T23:02:01.651224Z",
     "iopub.status.idle": "2024-07-13T23:02:01.960652Z",
     "shell.execute_reply": "2024-07-13T23:02:01.959526Z"
    },
    "papermill": {
     "duration": 0.323274,
     "end_time": "2024-07-13T23:02:01.963368",
     "exception": false,
     "start_time": "2024-07-13T23:02:01.640094",
     "status": "completed"
    },
    "tags": []
   },
   "outputs": [
    {
     "name": "stdout",
     "output_type": "stream",
     "text": [
      "\n",
      "Random Forest Model:\n",
      "Accuracy: 0.7804878048780488\n",
      "Classification Report:\n",
      "              precision    recall  f1-score   support\n",
      "\n",
      "           N       0.90      0.42      0.57        43\n",
      "           Y       0.76      0.97      0.85        80\n",
      "\n",
      "    accuracy                           0.78       123\n",
      "   macro avg       0.83      0.70      0.71       123\n",
      "weighted avg       0.81      0.78      0.75       123\n",
      "\n"
     ]
    }
   ],
   "source": [
    "# Train a Random Forest model\n",
    "rf_clf = RandomForestClassifier(random_state=42)\n",
    "rf_clf.fit(X_train, y_train)\n",
    "\n",
    "# Predict on the validation set\n",
    "y_val_pred_rf = rf_clf.predict(X_val)\n",
    "\n",
    "# Evaluate the Random Forest model\n",
    "accuracy_rf = accuracy_score(y_val, y_val_pred_rf)\n",
    "classification_rep_rf = classification_report(y_val, y_val_pred_rf)\n",
    "\n",
    "print(\"\\nRandom Forest Model:\")\n",
    "print(f\"Accuracy: {accuracy_rf}\")\n",
    "print(f\"Classification Report:\\n{classification_rep_rf}\")\n"
   ]
  },
  {
   "cell_type": "markdown",
   "id": "a058cf90",
   "metadata": {
    "papermill": {
     "duration": 0.009557,
     "end_time": "2024-07-13T23:02:01.983587",
     "exception": false,
     "start_time": "2024-07-13T23:02:01.974030",
     "status": "completed"
    },
    "tags": []
   },
   "source": [
    "First, ENCODE THE TARGET VARIABLES, AND make sure you're using the LabelEncoder consistently:"
   ]
  },
  {
   "cell_type": "code",
   "execution_count": 9,
   "id": "51033323",
   "metadata": {
    "execution": {
     "iopub.execute_input": "2024-07-13T23:02:02.005245Z",
     "iopub.status.busy": "2024-07-13T23:02:02.004819Z",
     "iopub.status.idle": "2024-07-13T23:02:02.015367Z",
     "shell.execute_reply": "2024-07-13T23:02:02.014298Z"
    },
    "papermill": {
     "duration": 0.024107,
     "end_time": "2024-07-13T23:02:02.017691",
     "exception": false,
     "start_time": "2024-07-13T23:02:01.993584",
     "status": "completed"
    },
    "tags": []
   },
   "outputs": [],
   "source": [
    "from sklearn.preprocessing import LabelEncoder\n",
    "\n",
    "# Create the LabelEncoder\n",
    "loan_status_le = LabelEncoder()\n",
    "\n",
    "# Fit the encoder on the entire training set\n",
    "loan_status_le.fit(train_data['Loan_Status'])\n",
    "\n",
    "# Transform the training data\n",
    "y = loan_status_le.transform(train_data['Loan_Status'])\n",
    "\n",
    "# Split the data\n",
    "X_train, X_val, y_train, y_val = train_test_split(X, y, test_size=0.2, random_state=42)"
   ]
  },
  {
   "cell_type": "markdown",
   "id": "0c8bee58",
   "metadata": {
    "papermill": {
     "duration": 0.009475,
     "end_time": "2024-07-13T23:02:02.037339",
     "exception": false,
     "start_time": "2024-07-13T23:02:02.027864",
     "status": "completed"
    },
    "tags": []
   },
   "source": [
    "When making predictions on the test set, you'll need to decode the predictions back to 'Y' and 'N':"
   ]
  },
  {
   "cell_type": "code",
   "execution_count": 10,
   "id": "497973d6",
   "metadata": {
    "execution": {
     "iopub.execute_input": "2024-07-13T23:02:02.058616Z",
     "iopub.status.busy": "2024-07-13T23:02:02.058188Z",
     "iopub.status.idle": "2024-07-13T23:02:02.092991Z",
     "shell.execute_reply": "2024-07-13T23:02:02.091642Z"
    },
    "papermill": {
     "duration": 0.049115,
     "end_time": "2024-07-13T23:02:02.096293",
     "exception": false,
     "start_time": "2024-07-13T23:02:02.047178",
     "status": "completed"
    },
    "tags": []
   },
   "outputs": [],
   "source": [
    "# Predict on the test set\n",
    "lin_reg = LinearRegression()\n",
    "lin_reg.fit(X_train, y_train)\n",
    "X_test = test_data.drop('Loan_ID', axis=1)\n",
    "test_preds_lr = lin_reg.predict(X_test)\n",
    "test_preds_lr_binary = np.round(test_preds_lr).astype(int)\n",
    "\n",
    "# Decode predictions\n",
    "test_preds_decoded = loan_status_le.inverse_transform(test_preds_lr_binary)"
   ]
  },
  {
   "cell_type": "markdown",
   "id": "1bae13bd",
   "metadata": {
    "papermill": {
     "duration": 0.009581,
     "end_time": "2024-07-13T23:02:02.115733",
     "exception": false,
     "start_time": "2024-07-13T23:02:02.106152",
     "status": "completed"
    },
    "tags": []
   },
   "source": [
    "When training your models, use the transformed y values"
   ]
  },
  {
   "cell_type": "code",
   "execution_count": 11,
   "id": "44f40630",
   "metadata": {
    "execution": {
     "iopub.execute_input": "2024-07-13T23:02:02.139589Z",
     "iopub.status.busy": "2024-07-13T23:02:02.138479Z",
     "iopub.status.idle": "2024-07-13T23:02:02.421797Z",
     "shell.execute_reply": "2024-07-13T23:02:02.420509Z"
    },
    "papermill": {
     "duration": 0.298717,
     "end_time": "2024-07-13T23:02:02.424520",
     "exception": false,
     "start_time": "2024-07-13T23:02:02.125803",
     "status": "completed"
    },
    "tags": []
   },
   "outputs": [
    {
     "data": {
      "text/html": [
       "<style>#sk-container-id-1 {color: black;background-color: white;}#sk-container-id-1 pre{padding: 0;}#sk-container-id-1 div.sk-toggleable {background-color: white;}#sk-container-id-1 label.sk-toggleable__label {cursor: pointer;display: block;width: 100%;margin-bottom: 0;padding: 0.3em;box-sizing: border-box;text-align: center;}#sk-container-id-1 label.sk-toggleable__label-arrow:before {content: \"▸\";float: left;margin-right: 0.25em;color: #696969;}#sk-container-id-1 label.sk-toggleable__label-arrow:hover:before {color: black;}#sk-container-id-1 div.sk-estimator:hover label.sk-toggleable__label-arrow:before {color: black;}#sk-container-id-1 div.sk-toggleable__content {max-height: 0;max-width: 0;overflow: hidden;text-align: left;background-color: #f0f8ff;}#sk-container-id-1 div.sk-toggleable__content pre {margin: 0.2em;color: black;border-radius: 0.25em;background-color: #f0f8ff;}#sk-container-id-1 input.sk-toggleable__control:checked~div.sk-toggleable__content {max-height: 200px;max-width: 100%;overflow: auto;}#sk-container-id-1 input.sk-toggleable__control:checked~label.sk-toggleable__label-arrow:before {content: \"▾\";}#sk-container-id-1 div.sk-estimator input.sk-toggleable__control:checked~label.sk-toggleable__label {background-color: #d4ebff;}#sk-container-id-1 div.sk-label input.sk-toggleable__control:checked~label.sk-toggleable__label {background-color: #d4ebff;}#sk-container-id-1 input.sk-hidden--visually {border: 0;clip: rect(1px 1px 1px 1px);clip: rect(1px, 1px, 1px, 1px);height: 1px;margin: -1px;overflow: hidden;padding: 0;position: absolute;width: 1px;}#sk-container-id-1 div.sk-estimator {font-family: monospace;background-color: #f0f8ff;border: 1px dotted black;border-radius: 0.25em;box-sizing: border-box;margin-bottom: 0.5em;}#sk-container-id-1 div.sk-estimator:hover {background-color: #d4ebff;}#sk-container-id-1 div.sk-parallel-item::after {content: \"\";width: 100%;border-bottom: 1px solid gray;flex-grow: 1;}#sk-container-id-1 div.sk-label:hover label.sk-toggleable__label {background-color: #d4ebff;}#sk-container-id-1 div.sk-serial::before {content: \"\";position: absolute;border-left: 1px solid gray;box-sizing: border-box;top: 0;bottom: 0;left: 50%;z-index: 0;}#sk-container-id-1 div.sk-serial {display: flex;flex-direction: column;align-items: center;background-color: white;padding-right: 0.2em;padding-left: 0.2em;position: relative;}#sk-container-id-1 div.sk-item {position: relative;z-index: 1;}#sk-container-id-1 div.sk-parallel {display: flex;align-items: stretch;justify-content: center;background-color: white;position: relative;}#sk-container-id-1 div.sk-item::before, #sk-container-id-1 div.sk-parallel-item::before {content: \"\";position: absolute;border-left: 1px solid gray;box-sizing: border-box;top: 0;bottom: 0;left: 50%;z-index: -1;}#sk-container-id-1 div.sk-parallel-item {display: flex;flex-direction: column;z-index: 1;position: relative;background-color: white;}#sk-container-id-1 div.sk-parallel-item:first-child::after {align-self: flex-end;width: 50%;}#sk-container-id-1 div.sk-parallel-item:last-child::after {align-self: flex-start;width: 50%;}#sk-container-id-1 div.sk-parallel-item:only-child::after {width: 0;}#sk-container-id-1 div.sk-dashed-wrapped {border: 1px dashed gray;margin: 0 0.4em 0.5em 0.4em;box-sizing: border-box;padding-bottom: 0.4em;background-color: white;}#sk-container-id-1 div.sk-label label {font-family: monospace;font-weight: bold;display: inline-block;line-height: 1.2em;}#sk-container-id-1 div.sk-label-container {text-align: center;}#sk-container-id-1 div.sk-container {/* jupyter's `normalize.less` sets `[hidden] { display: none; }` but bootstrap.min.css set `[hidden] { display: none !important; }` so we also need the `!important` here to be able to override the default hidden behavior on the sphinx rendered scikit-learn.org. See: https://github.com/scikit-learn/scikit-learn/issues/21755 */display: inline-block !important;position: relative;}#sk-container-id-1 div.sk-text-repr-fallback {display: none;}</style><div id=\"sk-container-id-1\" class=\"sk-top-container\"><div class=\"sk-text-repr-fallback\"><pre>RandomForestClassifier(random_state=42)</pre><b>In a Jupyter environment, please rerun this cell to show the HTML representation or trust the notebook. <br />On GitHub, the HTML representation is unable to render, please try loading this page with nbviewer.org.</b></div><div class=\"sk-container\" hidden><div class=\"sk-item\"><div class=\"sk-estimator sk-toggleable\"><input class=\"sk-toggleable__control sk-hidden--visually\" id=\"sk-estimator-id-1\" type=\"checkbox\" checked><label for=\"sk-estimator-id-1\" class=\"sk-toggleable__label sk-toggleable__label-arrow\">RandomForestClassifier</label><div class=\"sk-toggleable__content\"><pre>RandomForestClassifier(random_state=42)</pre></div></div></div></div></div>"
      ],
      "text/plain": [
       "RandomForestClassifier(random_state=42)"
      ]
     },
     "execution_count": 11,
     "metadata": {},
     "output_type": "execute_result"
    }
   ],
   "source": [
    "# Train Random Forest model (or whichever model you choose as final_model)\n",
    "rf_clf = RandomForestClassifier(random_state=42)\n",
    "rf_clf.fit(X_train, y_train)"
   ]
  },
  {
   "cell_type": "markdown",
   "id": "c992402d",
   "metadata": {
    "papermill": {
     "duration": 0.009736,
     "end_time": "2024-07-13T23:02:02.444388",
     "exception": false,
     "start_time": "2024-07-13T23:02:02.434652",
     "status": "completed"
    },
    "tags": []
   },
   "source": [
    "FOR prediction and evaluation, use the encoded values and then decode when necessary"
   ]
  },
  {
   "cell_type": "code",
   "execution_count": 12,
   "id": "9a048788",
   "metadata": {
    "execution": {
     "iopub.execute_input": "2024-07-13T23:02:02.466560Z",
     "iopub.status.busy": "2024-07-13T23:02:02.466034Z",
     "iopub.status.idle": "2024-07-13T23:02:02.472017Z",
     "shell.execute_reply": "2024-07-13T23:02:02.470684Z"
    },
    "papermill": {
     "duration": 0.02016,
     "end_time": "2024-07-13T23:02:02.474797",
     "exception": false,
     "start_time": "2024-07-13T23:02:02.454637",
     "status": "completed"
    },
    "tags": []
   },
   "outputs": [],
   "source": [
    "# # Predict on the validation set\n",
    "# y_val_pred_rf = rf_clf.predict(X_val)\n",
    "\n",
    "# # Evaluate using encoded values\n",
    "# accuracy_rf = accuracy_score(y_val, y_val_pred_rf)\n",
    "# classification_rep_rf = classification_report(y_val, y_val_pred_rf)\n",
    "\n",
    "# print(\"\\nRandom Forest Model:\")\n",
    "# print(f\"Accuracy: {accuracy_rf}\")\n",
    "# print(f\"Classification Report:\\n{classification_rep_rf}\")\n",
    "\n",
    "# # If you need to see the actual 'Y' and 'N' values:\n",
    "# y_val_decoded = loan_status_le.inverse_transform(y_val)\n",
    "# y_val_pred_rf_decoded = loan_status_le.inverse_transform(y_val_pred_rf)"
   ]
  },
  {
   "cell_type": "markdown",
   "id": "ae86c33e",
   "metadata": {
    "papermill": {
     "duration": 0.009691,
     "end_time": "2024-07-13T23:02:02.494617",
     "exception": false,
     "start_time": "2024-07-13T23:02:02.484926",
     "status": "completed"
    },
    "tags": []
   },
   "source": [
    "FOR THE FINAL PREDICTION ON THE TEST SET"
   ]
  },
  {
   "cell_type": "code",
   "execution_count": 13,
   "id": "0d6233d1",
   "metadata": {
    "execution": {
     "iopub.execute_input": "2024-07-13T23:02:02.517276Z",
     "iopub.status.busy": "2024-07-13T23:02:02.516849Z",
     "iopub.status.idle": "2024-07-13T23:02:02.544523Z",
     "shell.execute_reply": "2024-07-13T23:02:02.543313Z"
    },
    "papermill": {
     "duration": 0.042099,
     "end_time": "2024-07-13T23:02:02.547558",
     "exception": false,
     "start_time": "2024-07-13T23:02:02.505459",
     "status": "completed"
    },
    "tags": []
   },
   "outputs": [
    {
     "name": "stdout",
     "output_type": "stream",
     "text": [
      "\n",
      "Final Submission sample as Random forest is :\n",
      "    Loan_ID Loan_Status\n",
      "0  LP001015           Y\n",
      "1  LP001022           Y\n",
      "2  LP001031           Y\n",
      "3  LP001035           Y\n",
      "4  LP001051           N\n"
     ]
    }
   ],
   "source": [
    "# Choose the better model for final prediction\n",
    "final_model = rf_clf  # or whichever model you choose\n",
    "\n",
    "# Predict on the test set\n",
    "X_test = test_data.drop('Loan_ID', axis=1)\n",
    "test_preds = final_model.predict(X_test)\n",
    "\n",
    "# Decode predictions\n",
    "test_preds_decoded = loan_status_le.inverse_transform(test_preds)\n",
    "\n",
    "# Prepare the submission file\n",
    "submission = pd.DataFrame({'Loan_ID': test_data['Loan_ID'], 'Loan_Status': test_preds_decoded})\n",
    "# submission.to_csv('Final_Submission.csv', index=False)\n",
    "\n",
    "print(\"\\nFinal Submission sample as Random forest is :\")\n",
    "print(submission.head())"
   ]
  },
  {
   "cell_type": "code",
   "execution_count": 14,
   "id": "d4daf7b7",
   "metadata": {
    "execution": {
     "iopub.execute_input": "2024-07-13T23:02:02.570788Z",
     "iopub.status.busy": "2024-07-13T23:02:02.570345Z",
     "iopub.status.idle": "2024-07-13T23:02:02.583716Z",
     "shell.execute_reply": "2024-07-13T23:02:02.582491Z"
    },
    "papermill": {
     "duration": 0.027983,
     "end_time": "2024-07-13T23:02:02.586351",
     "exception": false,
     "start_time": "2024-07-13T23:02:02.558368",
     "status": "completed"
    },
    "tags": []
   },
   "outputs": [],
   "source": [
    "# Predict on the test set\n",
    "X_test = test_data.drop('Loan_ID', axis=1)\n",
    "test_preds_lr = lin_reg.predict(X_test)\n",
    "test_preds_lr_binary = np.round(test_preds_lr).astype(int)\n",
    "\n",
    "# Decode predictions\n",
    "test_preds_decoded = loan_status_le.inverse_transform(test_preds_lr_binary)"
   ]
  },
  {
   "cell_type": "code",
   "execution_count": 15,
   "id": "5f7a8144",
   "metadata": {
    "execution": {
     "iopub.execute_input": "2024-07-13T23:02:02.609346Z",
     "iopub.status.busy": "2024-07-13T23:02:02.608931Z",
     "iopub.status.idle": "2024-07-13T23:02:02.645445Z",
     "shell.execute_reply": "2024-07-13T23:02:02.644147Z"
    },
    "papermill": {
     "duration": 0.051419,
     "end_time": "2024-07-13T23:02:02.648683",
     "exception": false,
     "start_time": "2024-07-13T23:02:02.597264",
     "status": "completed"
    },
    "tags": []
   },
   "outputs": [
    {
     "data": {
      "text/html": [
       "<style>#sk-container-id-2 {color: black;background-color: white;}#sk-container-id-2 pre{padding: 0;}#sk-container-id-2 div.sk-toggleable {background-color: white;}#sk-container-id-2 label.sk-toggleable__label {cursor: pointer;display: block;width: 100%;margin-bottom: 0;padding: 0.3em;box-sizing: border-box;text-align: center;}#sk-container-id-2 label.sk-toggleable__label-arrow:before {content: \"▸\";float: left;margin-right: 0.25em;color: #696969;}#sk-container-id-2 label.sk-toggleable__label-arrow:hover:before {color: black;}#sk-container-id-2 div.sk-estimator:hover label.sk-toggleable__label-arrow:before {color: black;}#sk-container-id-2 div.sk-toggleable__content {max-height: 0;max-width: 0;overflow: hidden;text-align: left;background-color: #f0f8ff;}#sk-container-id-2 div.sk-toggleable__content pre {margin: 0.2em;color: black;border-radius: 0.25em;background-color: #f0f8ff;}#sk-container-id-2 input.sk-toggleable__control:checked~div.sk-toggleable__content {max-height: 200px;max-width: 100%;overflow: auto;}#sk-container-id-2 input.sk-toggleable__control:checked~label.sk-toggleable__label-arrow:before {content: \"▾\";}#sk-container-id-2 div.sk-estimator input.sk-toggleable__control:checked~label.sk-toggleable__label {background-color: #d4ebff;}#sk-container-id-2 div.sk-label input.sk-toggleable__control:checked~label.sk-toggleable__label {background-color: #d4ebff;}#sk-container-id-2 input.sk-hidden--visually {border: 0;clip: rect(1px 1px 1px 1px);clip: rect(1px, 1px, 1px, 1px);height: 1px;margin: -1px;overflow: hidden;padding: 0;position: absolute;width: 1px;}#sk-container-id-2 div.sk-estimator {font-family: monospace;background-color: #f0f8ff;border: 1px dotted black;border-radius: 0.25em;box-sizing: border-box;margin-bottom: 0.5em;}#sk-container-id-2 div.sk-estimator:hover {background-color: #d4ebff;}#sk-container-id-2 div.sk-parallel-item::after {content: \"\";width: 100%;border-bottom: 1px solid gray;flex-grow: 1;}#sk-container-id-2 div.sk-label:hover label.sk-toggleable__label {background-color: #d4ebff;}#sk-container-id-2 div.sk-serial::before {content: \"\";position: absolute;border-left: 1px solid gray;box-sizing: border-box;top: 0;bottom: 0;left: 50%;z-index: 0;}#sk-container-id-2 div.sk-serial {display: flex;flex-direction: column;align-items: center;background-color: white;padding-right: 0.2em;padding-left: 0.2em;position: relative;}#sk-container-id-2 div.sk-item {position: relative;z-index: 1;}#sk-container-id-2 div.sk-parallel {display: flex;align-items: stretch;justify-content: center;background-color: white;position: relative;}#sk-container-id-2 div.sk-item::before, #sk-container-id-2 div.sk-parallel-item::before {content: \"\";position: absolute;border-left: 1px solid gray;box-sizing: border-box;top: 0;bottom: 0;left: 50%;z-index: -1;}#sk-container-id-2 div.sk-parallel-item {display: flex;flex-direction: column;z-index: 1;position: relative;background-color: white;}#sk-container-id-2 div.sk-parallel-item:first-child::after {align-self: flex-end;width: 50%;}#sk-container-id-2 div.sk-parallel-item:last-child::after {align-self: flex-start;width: 50%;}#sk-container-id-2 div.sk-parallel-item:only-child::after {width: 0;}#sk-container-id-2 div.sk-dashed-wrapped {border: 1px dashed gray;margin: 0 0.4em 0.5em 0.4em;box-sizing: border-box;padding-bottom: 0.4em;background-color: white;}#sk-container-id-2 div.sk-label label {font-family: monospace;font-weight: bold;display: inline-block;line-height: 1.2em;}#sk-container-id-2 div.sk-label-container {text-align: center;}#sk-container-id-2 div.sk-container {/* jupyter's `normalize.less` sets `[hidden] { display: none; }` but bootstrap.min.css set `[hidden] { display: none !important; }` so we also need the `!important` here to be able to override the default hidden behavior on the sphinx rendered scikit-learn.org. See: https://github.com/scikit-learn/scikit-learn/issues/21755 */display: inline-block !important;position: relative;}#sk-container-id-2 div.sk-text-repr-fallback {display: none;}</style><div id=\"sk-container-id-2\" class=\"sk-top-container\"><div class=\"sk-text-repr-fallback\"><pre>LogisticRegression(max_iter=1000, random_state=42)</pre><b>In a Jupyter environment, please rerun this cell to show the HTML representation or trust the notebook. <br />On GitHub, the HTML representation is unable to render, please try loading this page with nbviewer.org.</b></div><div class=\"sk-container\" hidden><div class=\"sk-item\"><div class=\"sk-estimator sk-toggleable\"><input class=\"sk-toggleable__control sk-hidden--visually\" id=\"sk-estimator-id-2\" type=\"checkbox\" checked><label for=\"sk-estimator-id-2\" class=\"sk-toggleable__label sk-toggleable__label-arrow\">LogisticRegression</label><div class=\"sk-toggleable__content\"><pre>LogisticRegression(max_iter=1000, random_state=42)</pre></div></div></div></div></div>"
      ],
      "text/plain": [
       "LogisticRegression(max_iter=1000, random_state=42)"
      ]
     },
     "execution_count": 15,
     "metadata": {},
     "output_type": "execute_result"
    }
   ],
   "source": [
    "# Train a Logistic Regression model\n",
    "log_reg = LogisticRegression(random_state=42, max_iter=1000)\n",
    "log_reg.fit(X_train, y_train)"
   ]
  },
  {
   "cell_type": "code",
   "execution_count": 16,
   "id": "92c38067",
   "metadata": {
    "execution": {
     "iopub.execute_input": "2024-07-13T23:02:02.672859Z",
     "iopub.status.busy": "2024-07-13T23:02:02.671596Z",
     "iopub.status.idle": "2024-07-13T23:02:02.687887Z",
     "shell.execute_reply": "2024-07-13T23:02:02.686458Z"
    },
    "papermill": {
     "duration": 0.031581,
     "end_time": "2024-07-13T23:02:02.690993",
     "exception": false,
     "start_time": "2024-07-13T23:02:02.659412",
     "status": "completed"
    },
    "tags": []
   },
   "outputs": [
    {
     "name": "stdout",
     "output_type": "stream",
     "text": [
      "\n",
      "Final Submission:\n",
      "    Loan_ID Loan_Status\n",
      "0  LP001015           Y\n",
      "1  LP001022           Y\n",
      "2  LP001031           Y\n",
      "3  LP001035           Y\n",
      "4  LP001051           Y\n"
     ]
    }
   ],
   "source": [
    "# Choose the better model for final prediction\n",
    "final_model = log_reg  # or whichever model you choose\n",
    "\n",
    "# Use the chosen model for final predictions\n",
    "X_test = test_data.drop('Loan_ID', axis=1)\n",
    "test_preds = final_model.predict(X_test)\n",
    "\n",
    "# Decode predictions\n",
    "test_preds_decoded = loan_status_le.inverse_transform(test_preds)\n",
    "\n",
    "# Prepare the submission file\n",
    "submission = pd.DataFrame({'Loan_ID': test_data['Loan_ID'], 'Loan_Status': test_preds_decoded})\n",
    "# submission.to_csv('Final_Submission.csv', index=False)\n",
    "\n",
    "print(\"\\nFinal Submission:\")\n",
    "print(submission.head())"
   ]
  },
  {
   "cell_type": "markdown",
   "id": "4f40c3f5",
   "metadata": {
    "papermill": {
     "duration": 0.010353,
     "end_time": "2024-07-13T23:02:02.712017",
     "exception": false,
     "start_time": "2024-07-13T23:02:02.701664",
     "status": "completed"
    },
    "tags": []
   },
   "source": [
    "Step 10: Choose the Better Model and Make Final Predictions"
   ]
  },
  {
   "cell_type": "code",
   "execution_count": 17,
   "id": "1251bb16",
   "metadata": {
    "execution": {
     "iopub.execute_input": "2024-07-13T23:02:02.735610Z",
     "iopub.status.busy": "2024-07-13T23:02:02.735090Z",
     "iopub.status.idle": "2024-07-13T23:02:03.147707Z",
     "shell.execute_reply": "2024-07-13T23:02:03.145941Z"
    },
    "papermill": {
     "duration": 0.427764,
     "end_time": "2024-07-13T23:02:03.150596",
     "exception": false,
     "start_time": "2024-07-13T23:02:02.722832",
     "status": "completed"
    },
    "tags": []
   },
   "outputs": [
    {
     "name": "stdout",
     "output_type": "stream",
     "text": [
      "Logistic Regression Model:\n",
      "Accuracy: 0.7886178861788617\n",
      "Classification Report:\n",
      "              precision    recall  f1-score   support\n",
      "\n",
      "           0       0.95      0.42      0.58        43\n",
      "           1       0.76      0.99      0.86        80\n",
      "\n",
      "    accuracy                           0.79       123\n",
      "   macro avg       0.85      0.70      0.72       123\n",
      "weighted avg       0.83      0.79      0.76       123\n",
      "\n",
      "\n",
      "Random Forest Model:\n",
      "Accuracy: 0.7804878048780488\n",
      "Classification Report:\n",
      "              precision    recall  f1-score   support\n",
      "\n",
      "           0       0.90      0.42      0.57        43\n",
      "           1       0.76      0.97      0.85        80\n",
      "\n",
      "    accuracy                           0.78       123\n",
      "   macro avg       0.83      0.70      0.71       123\n",
      "weighted avg       0.81      0.78      0.75       123\n",
      "\n",
      "\n",
      "Logistic Regression performs better.\n",
      "\n",
      "Final Submission:\n",
      "    Loan_ID Loan_Status\n",
      "0  LP001015           Y\n",
      "1  LP001022           Y\n",
      "2  LP001031           Y\n",
      "3  LP001035           Y\n",
      "4  LP001051           Y\n"
     ]
    }
   ],
   "source": [
    "# Train and evaluate Logistic Regression model\n",
    "log_reg = LogisticRegression(random_state=42, max_iter=1000)\n",
    "log_reg.fit(X_train, y_train)\n",
    "y_val_pred_log = log_reg.predict(X_val)\n",
    "\n",
    "accuracy_log = accuracy_score(y_val, y_val_pred_log)\n",
    "classification_rep_log = classification_report(y_val, y_val_pred_log)\n",
    "\n",
    "print(\"Logistic Regression Model:\")\n",
    "print(f\"Accuracy: {accuracy_log}\")\n",
    "print(f\"Classification Report:\\n{classification_rep_log}\")\n",
    "\n",
    "# Train and evaluate Random Forest model\n",
    "rf_clf = RandomForestClassifier(random_state=42)\n",
    "rf_clf.fit(X_train, y_train)\n",
    "y_val_pred_rf = rf_clf.predict(X_val)\n",
    "\n",
    "accuracy_rf = accuracy_score(y_val, y_val_pred_rf)\n",
    "classification_rep_rf = classification_report(y_val, y_val_pred_rf)\n",
    "\n",
    "print(\"\\nRandom Forest Model:\")\n",
    "print(f\"Accuracy: {accuracy_rf}\")\n",
    "print(f\"Classification Report:\\n{classification_rep_rf}\")\n",
    "\n",
    "# Compare and choose the best model\n",
    "if accuracy_log > accuracy_rf:\n",
    "    print(\"\\nLogistic Regression performs better.\")\n",
    "    final_model = log_reg\n",
    "else:\n",
    "    print(\"\\nRandom Forest performs better.\")\n",
    "    final_model = rf_clf\n",
    "\n",
    "# Use the chosen model for final predictions\n",
    "X_test = test_data.drop('Loan_ID', axis=1)\n",
    "test_preds = final_model.predict(X_test)\n",
    "\n",
    "# Decode predictions\n",
    "test_preds_decoded = loan_status_le.inverse_transform(test_preds)\n",
    "\n",
    "# Prepare the submission file\n",
    "submission = pd.DataFrame({'Loan_ID': test_data['Loan_ID'], 'Loan_Status': test_preds_decoded})\n",
    "submission.to_csv('Final_Submission.csv', index=False)\n",
    "\n",
    "print(\"\\nFinal Submission:\")\n",
    "print(submission.head())"
   ]
  }
 ],
 "metadata": {
  "kaggle": {
   "accelerator": "none",
   "dataSources": [
    {
     "datasetId": 1226448,
     "sourceId": 2047352,
     "sourceType": "datasetVersion"
    }
   ],
   "dockerImageVersionId": 30746,
   "isGpuEnabled": false,
   "isInternetEnabled": true,
   "language": "python",
   "sourceType": "notebook"
  },
  "kernelspec": {
   "display_name": "Python 3",
   "language": "python",
   "name": "python3"
  },
  "language_info": {
   "codemirror_mode": {
    "name": "ipython",
    "version": 3
   },
   "file_extension": ".py",
   "mimetype": "text/x-python",
   "name": "python",
   "nbconvert_exporter": "python",
   "pygments_lexer": "ipython3",
   "version": "3.10.13"
  },
  "papermill": {
   "default_parameters": {},
   "duration": 9.004661,
   "end_time": "2024-07-13T23:02:03.784537",
   "environment_variables": {},
   "exception": null,
   "input_path": "__notebook__.ipynb",
   "output_path": "__notebook__.ipynb",
   "parameters": {},
   "start_time": "2024-07-13T23:01:54.779876",
   "version": "2.5.0"
  }
 },
 "nbformat": 4,
 "nbformat_minor": 5
}
